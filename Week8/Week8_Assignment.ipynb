{
 "cells": [
  {
   "cell_type": "markdown",
   "id": "ad8c5b8b",
   "metadata": {},
   "source": [
    "#### **NAME: Jackline Mboya**\n",
    "#### **ADM No: 193670**\n",
    "\n",
    "**Week 8 Assignment**\n",
    "\n",
    "#### **Unit Code: DSA 8302**\n",
    "#### **Unit Name: Computational Techniques in Data Science**"
   ]
  },
  {
   "cell_type": "code",
   "execution_count": 4,
   "id": "dbde607e",
   "metadata": {},
   "outputs": [
    {
     "name": "stdout",
     "output_type": "stream",
     "text": [
      "Hospital Efficiency Scores: [np.float64(7.4110000000000005), np.float64(7.759020408163265), np.float64(7.244758620689655), np.float64(7.561821705426357)]\n",
      "Problem 1 - Most efficient hospital department: Department 2\n"
     ]
    }
   ],
   "source": [
    "import numpy as np\n",
    "\n",
    "#Question 1\n",
    "# Hospital Efficiency Analysis\n",
    "# Input and Output data\n",
    "doctors = [40, 35, 45, 38]\n",
    "nurses = [80, 70, 85, 75]\n",
    "beds = [150, 140, 160, 145]\n",
    "patients_treated = [2000, 1900, 2100, 1950]\n",
    "survival_rate = [0.97, 0.96, 0.98, 0.95]\n",
    "\n",
    "# Normalize inputs and outputs\n",
    "inputs = np.array([doctors, nurses, beds]).T\n",
    "outputs = np.array([patients_treated, survival_rate]).T\n",
    "\n",
    "# Compute efficiency score (simple average of output/input ratio)\n",
    "efficiency = []\n",
    "for i in range(4):\n",
    "    input_vals = inputs[i]\n",
    "    output_vals = outputs[i]\n",
    "    # Avoid division by zero\n",
    "    input_sum = np.sum(input_vals)\n",
    "    output_sum = np.sum(output_vals)\n",
    "    efficiency_score = output_sum / input_sum if input_sum != 0 else 0\n",
    "    efficiency.append(efficiency_score)\n",
    "\n",
    "most_efficient_hospital = np.argmax(efficiency) + 1\n",
    "print(\"Hospital Efficiency Scores:\", efficiency)\n",
    "print(\"Problem 1 - Most efficient hospital department: Department\", most_efficient_hospital)"
   ]
  },
  {
   "cell_type": "code",
   "execution_count": 5,
   "id": "b380ad14",
   "metadata": {},
   "outputs": [
    {
     "name": "stdout",
     "output_type": "stream",
     "text": [
      "Retail Store Efficiency Scores: [np.float64(9.342762063227953), np.float64(10.181672988620484), np.float64(10.640513799687554), np.float64(9.868622059272838)]\n",
      "Problem 2 - Most efficient retail store: Store 3\n"
     ]
    }
   ],
   "source": [
    "#Question 2\n",
    "# Retail Store Efficiency Analysis\n",
    "# Inputs and Outputs\n",
    "marketing_spend = [12000, 10000, 11500, 9800]\n",
    "employees = [20, 18, 22, 19]\n",
    "revenue = [110000, 100000, 120000, 95000]\n",
    "customers = [2300, 2000, 2600, 1900]\n",
    "\n",
    "inputs = np.array([marketing_spend, employees]).T\n",
    "outputs = np.array([revenue, customers]).T\n",
    "\n",
    "efficiency = []\n",
    "for i in range(4):\n",
    "    input_vals = inputs[i]\n",
    "    output_vals = outputs[i]\n",
    "    input_sum = np.sum(input_vals)\n",
    "    output_sum = np.sum(output_vals)\n",
    "    efficiency_score = output_sum / input_sum if input_sum != 0 else 0\n",
    "    efficiency.append(efficiency_score)\n",
    "\n",
    "most_efficient_store = np.argmax(efficiency) + 1\n",
    "print(\"Retail Store Efficiency Scores:\", efficiency)\n",
    "print(\"Problem 2 - Most efficient retail store: Store\", most_efficient_store)"
   ]
  },
  {
   "cell_type": "code",
   "execution_count": 7,
   "id": "3af86cc9",
   "metadata": {},
   "outputs": [
    {
     "name": "stdout",
     "output_type": "stream",
     "text": [
      "School Efficiencies: [1.48 1.7  1.76 1.59]\n",
      "Most Efficient School: School 3\n"
     ]
    }
   ],
   "source": [
    "#Question 3\n",
    "# University Efficiency Analysis\n",
    "\n",
    "# Inputs\n",
    "teachers = np.array([30, 25, 20, 28])\n",
    "budget = np.array([800000, 750000, 700000, 770000])\n",
    "\n",
    "# Outputs\n",
    "grad_rate = np.array([85, 90, 82, 88])\n",
    "test_score = np.array([78, 80, 76, 79])\n",
    "\n",
    "# Normalize budget by dividing by 10,000 for comparability\n",
    "inputs = teachers + (budget / 10000)\n",
    "outputs = grad_rate + test_score\n",
    "\n",
    "# Efficiency calculation\n",
    "efficiency = outputs / inputs\n",
    "\n",
    "# Result\n",
    "most_efficient = np.argmax(efficiency) + 1\n",
    "\n",
    "print(\"School Efficiencies:\", efficiency.round(2))\n",
    "print(\"Most Efficient School: School\", most_efficient)\n"
   ]
  },
  {
   "cell_type": "code",
   "execution_count": null,
   "id": "74af619c",
   "metadata": {},
   "outputs": [],
   "source": []
  }
 ],
 "metadata": {
  "kernelspec": {
   "display_name": "Python 3",
   "language": "python",
   "name": "python3"
  },
  "language_info": {
   "codemirror_mode": {
    "name": "ipython",
    "version": 3
   },
   "file_extension": ".py",
   "mimetype": "text/x-python",
   "name": "python",
   "nbconvert_exporter": "python",
   "pygments_lexer": "ipython3",
   "version": "3.13.2"
  }
 },
 "nbformat": 4,
 "nbformat_minor": 5
}
