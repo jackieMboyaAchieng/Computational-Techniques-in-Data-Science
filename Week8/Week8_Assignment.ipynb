{
 "cells": [
  {
   "cell_type": "code",
   "execution_count": 2,
   "id": "2eebb851-84e7-46cd-97fa-8bc5e50dd863",
   "metadata": {},
   "outputs": [
    {
     "name": "stdout",
     "output_type": "stream",
     "text": [
      "Collecting pyDEA\n",
      "  Using cached pyDEA-1.6-py3-none-any.whl.metadata (6.2 kB)\n",
      "Requirement already satisfied: openpyxl in c:\\users\\lenz\\anaconda3\\lib\\site-packages (from pyDEA) (3.1.5)\n",
      "Collecting pulp>=1.6.1 (from pyDEA)\n",
      "  Using cached pulp-3.1.1-py3-none-any.whl.metadata (1.3 kB)\n",
      "Collecting xlrd (from pyDEA)\n",
      "  Using cached xlrd-2.0.1-py2.py3-none-any.whl.metadata (3.4 kB)\n",
      "Collecting xlwt-future (from pyDEA)\n",
      "  Using cached xlwt-future-0.8.0.tar.gz (3.5 MB)\n",
      "  Preparing metadata (setup.py): started\n",
      "  Preparing metadata (setup.py): finished with status 'done'\n",
      "Requirement already satisfied: et-xmlfile in c:\\users\\lenz\\anaconda3\\lib\\site-packages (from openpyxl->pyDEA) (1.1.0)\n",
      "Collecting future>=0.8.2 (from xlwt-future->pyDEA)\n",
      "  Using cached future-1.0.0-py3-none-any.whl.metadata (4.0 kB)\n",
      "Using cached pyDEA-1.6-py3-none-any.whl (121 kB)\n",
      "Using cached pulp-3.1.1-py3-none-any.whl (16.4 MB)\n",
      "Using cached xlrd-2.0.1-py2.py3-none-any.whl (96 kB)\n",
      "Using cached future-1.0.0-py3-none-any.whl (491 kB)\n",
      "Building wheels for collected packages: xlwt-future\n",
      "  Building wheel for xlwt-future (setup.py): started\n",
      "  Building wheel for xlwt-future (setup.py): finished with status 'done'\n",
      "  Created wheel for xlwt-future: filename=xlwt_future-0.8.0-py3-none-any.whl size=3258164 sha256=75c532cde2ae592d37aaca1a7589e15f7d7c84805a2c837c84e9b192c10d081d\n",
      "  Stored in directory: c:\\users\\lenz\\appdata\\local\\pip\\cache\\wheels\\2a\\04\\c8\\455c16dce88a82c72e24e7712a28f3063fb740b318b0891fa6\n",
      "Successfully built xlwt-future\n",
      "Installing collected packages: xlrd, pulp, future, xlwt-future, pyDEA\n",
      "Successfully installed future-1.0.0 pulp-3.1.1 pyDEA-1.6 xlrd-2.0.1 xlwt-future-0.8.0\n"
     ]
    }
   ],
   "source": [
    "!pip install pyDEA"
   ]
  },
  {
   "cell_type": "code",
   "execution_count": 12,
   "id": "faf920ca-1c52-45c7-8ba6-f594c4980bf1",
   "metadata": {},
   "outputs": [
    {
     "name": "stdout",
     "output_type": "stream",
     "text": [
      "Requirement already satisfied: pyDEA in c:\\users\\lenz\\anaconda3\\lib\\site-packages (1.6)\n",
      "Requirement already satisfied: openpyxl in c:\\users\\lenz\\anaconda3\\lib\\site-packages (from pyDEA) (3.1.5)\n",
      "Requirement already satisfied: pulp>=1.6.1 in c:\\users\\lenz\\anaconda3\\lib\\site-packages (from pyDEA) (3.1.1)\n",
      "Requirement already satisfied: xlrd in c:\\users\\lenz\\anaconda3\\lib\\site-packages (from pyDEA) (2.0.1)\n",
      "Requirement already satisfied: xlwt-future in c:\\users\\lenz\\anaconda3\\lib\\site-packages (from pyDEA) (0.8.0)\n",
      "Requirement already satisfied: et-xmlfile in c:\\users\\lenz\\anaconda3\\lib\\site-packages (from openpyxl->pyDEA) (1.1.0)\n",
      "Requirement already satisfied: future>=0.8.2 in c:\\users\\lenz\\anaconda3\\lib\\site-packages (from xlwt-future->pyDEA) (1.0.0)\n"
     ]
    }
   ],
   "source": [
    "!pip3 install pyDEA"
   ]
  },
  {
   "cell_type": "code",
   "execution_count": 14,
   "id": "f392922c-c373-4153-a83c-385d0093220f",
   "metadata": {},
   "outputs": [],
   "source": [
    "import pyDEA\n",
    "import pandas as pd"
   ]
  },
  {
   "cell_type": "code",
   "execution_count": 18,
   "id": "95c348f5-0ab5-4eed-a2dd-b2b0fd903b4f",
   "metadata": {},
   "outputs": [
    {
     "ename": "ModuleNotFoundError",
     "evalue": "No module named 'pyDEA.core.data_processing.read_data'",
     "output_type": "error",
     "traceback": [
      "\u001b[1;31m---------------------------------------------------------------------------\u001b[0m",
      "\u001b[1;31mModuleNotFoundError\u001b[0m                       Traceback (most recent call last)",
      "Cell \u001b[1;32mIn[18], line 1\u001b[0m\n\u001b[1;32m----> 1\u001b[0m \u001b[38;5;28;01mfrom\u001b[39;00m \u001b[38;5;21;01mpyDEA\u001b[39;00m\u001b[38;5;21;01m.\u001b[39;00m\u001b[38;5;21;01mcore\u001b[39;00m\u001b[38;5;21;01m.\u001b[39;00m\u001b[38;5;21;01mdata_processing\u001b[39;00m\u001b[38;5;21;01m.\u001b[39;00m\u001b[38;5;21;01mread_data\u001b[39;00m \u001b[38;5;28;01mimport\u001b[39;00m read_data\n\u001b[0;32m      2\u001b[0m \u001b[38;5;28;01mfrom\u001b[39;00m \u001b[38;5;21;01mpyDEA\u001b[39;00m\u001b[38;5;21;01m.\u001b[39;00m\u001b[38;5;21;01mcore\u001b[39;00m\u001b[38;5;21;01m.\u001b[39;00m\u001b[38;5;21;01mmodels\u001b[39;00m\u001b[38;5;21;01m.\u001b[39;00m\u001b[38;5;21;01mdea_model\u001b[39;00m \u001b[38;5;28;01mimport\u001b[39;00m DEAProblem\n\u001b[0;32m      3\u001b[0m \u001b[38;5;28;01mimport\u001b[39;00m \u001b[38;5;21;01mpandas\u001b[39;00m \u001b[38;5;28;01mas\u001b[39;00m \u001b[38;5;21;01mpd\u001b[39;00m\n",
      "\u001b[1;31mModuleNotFoundError\u001b[0m: No module named 'pyDEA.core.data_processing.read_data'"
     ]
    }
   ],
   "source": [
    "from pyDEA.core.data_processing.read_data import read_data\n",
    "from pyDEA.core.models.dea_model import DEAProblem\n",
    "import pandas as pd"
   ]
  },
  {
   "cell_type": "code",
   "execution_count": 16,
   "id": "5c5cedba-9345-4b4f-b0ab-cb4423eb8bfc",
   "metadata": {},
   "outputs": [],
   "source": [
    "\n",
    "# Create DataFrame for Hospital Departments\n",
    "data = {\n",
    "    'DMU': ['Hospital A', 'Hospital B', 'Hospital C', 'Hospital D'],\n",
    "    'Doctors': [40, 35, 45, 38],\n",
    "    'Nurses': [80, 70, 85, 75],\n",
    "    'Beds': [150, 140, 160, 145],\n",
    "    'Patients_Treated': [2000, 1900, 2100, 1950],\n",
    "    'Survival_Rate': [0.97, 0.96, 0.98, 0.95]\n",
    "}"
   ]
  },
  {
   "cell_type": "code",
   "execution_count": 17,
   "id": "7b207b42-d049-4f4a-a788-bf5ea3901cb2",
   "metadata": {},
   "outputs": [
    {
     "ename": "NameError",
     "evalue": "name 'read_data' is not defined",
     "output_type": "error",
     "traceback": [
      "\u001b[1;31m---------------------------------------------------------------------------\u001b[0m",
      "\u001b[1;31mNameError\u001b[0m                                 Traceback (most recent call last)",
      "Cell \u001b[1;32mIn[17], line 7\u001b[0m\n\u001b[0;32m      4\u001b[0m df\u001b[38;5;241m.\u001b[39mto_csv(\u001b[38;5;124m'\u001b[39m\u001b[38;5;124mhospital_input.csv\u001b[39m\u001b[38;5;124m'\u001b[39m, index\u001b[38;5;241m=\u001b[39m\u001b[38;5;28;01mFalse\u001b[39;00m)\n\u001b[0;32m      6\u001b[0m \u001b[38;5;66;03m# Read data\u001b[39;00m\n\u001b[1;32m----> 7\u001b[0m input_data, params \u001b[38;5;241m=\u001b[39m \u001b[43mread_data\u001b[49m(\u001b[38;5;124m'\u001b[39m\u001b[38;5;124mhospital_input.csv\u001b[39m\u001b[38;5;124m'\u001b[39m,\n\u001b[0;32m      8\u001b[0m                                 dmu_col\u001b[38;5;241m=\u001b[39m\u001b[38;5;124m'\u001b[39m\u001b[38;5;124mDMU\u001b[39m\u001b[38;5;124m'\u001b[39m,\n\u001b[0;32m      9\u001b[0m                                 input_cols\u001b[38;5;241m=\u001b[39m[\u001b[38;5;124m'\u001b[39m\u001b[38;5;124mDoctors\u001b[39m\u001b[38;5;124m'\u001b[39m, \u001b[38;5;124m'\u001b[39m\u001b[38;5;124mNurses\u001b[39m\u001b[38;5;124m'\u001b[39m, \u001b[38;5;124m'\u001b[39m\u001b[38;5;124mBeds\u001b[39m\u001b[38;5;124m'\u001b[39m],\n\u001b[0;32m     10\u001b[0m                                 output_cols\u001b[38;5;241m=\u001b[39m[\u001b[38;5;124m'\u001b[39m\u001b[38;5;124mPatients_Treated\u001b[39m\u001b[38;5;124m'\u001b[39m, \u001b[38;5;124m'\u001b[39m\u001b[38;5;124mSurvival_Rate\u001b[39m\u001b[38;5;124m'\u001b[39m])\n\u001b[0;32m     12\u001b[0m \u001b[38;5;66;03m# Run DEA (Input-oriented CCR model)\u001b[39;00m\n\u001b[0;32m     13\u001b[0m dea_problem \u001b[38;5;241m=\u001b[39m DEAProblem(input_data, params)\n",
      "\u001b[1;31mNameError\u001b[0m: name 'read_data' is not defined"
     ]
    }
   ],
   "source": [
    "df = pd.DataFrame(data)\n",
    "\n",
    "# Save to CSV (pyDEA reads from CSV)\n",
    "df.to_csv('hospital_input.csv', index=False)\n",
    "\n",
    "# Read data\n",
    "input_data, params = read_data('hospital_input.csv',\n",
    "                                dmu_col='DMU',\n",
    "                                input_cols=['Doctors', 'Nurses', 'Beds'],\n",
    "                                output_cols=['Patients_Treated', 'Survival_Rate'])\n",
    "\n",
    "# Run DEA (Input-oriented CCR model)\n",
    "dea_problem = DEAProblem(input_data, params)\n",
    "dea_problem.solve()\n",
    "\n",
    "# Export results\n",
    "results_df = dea_problem.efficiency_results_to_dataframe()\n",
    "print(\"\\n=== Hospital Department Efficiency Scores ===\")\n",
    "print(results_df[['DMU', 'Efficiency']])\n"
   ]
  },
  {
   "cell_type": "code",
   "execution_count": null,
   "id": "fbab6748-4fae-446e-b30a-3f086b2799a2",
   "metadata": {},
   "outputs": [],
   "source": [
    "most_efficient_hospital = results_df.loc[results_df['Efficiency'] == 1.0, 'DMU'].values[0]\n",
    "print(\"Most efficient hospital department:\", most_efficient_hospital)"
   ]
  }
 ],
 "metadata": {
  "kernelspec": {
   "display_name": "Python 3 (ipykernel)",
   "language": "python",
   "name": "python3"
  },
  "language_info": {
   "codemirror_mode": {
    "name": "ipython",
    "version": 3
   },
   "file_extension": ".py",
   "mimetype": "text/x-python",
   "name": "python",
   "nbconvert_exporter": "python",
   "pygments_lexer": "ipython3",
   "version": "3.12.7"
  }
 },
 "nbformat": 4,
 "nbformat_minor": 5
}
