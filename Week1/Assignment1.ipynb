{
  "cells": [
    {
      "cell_type": "markdown",
      "metadata": {
        "id": "BWLiIrOZdKA7"
      },
      "source": [
        "# Question 1 - Supply Chain Optimization under  Demand Uncertainty."
      ]
    },
    {
      "cell_type": "code",
      "execution_count": 7,
      "metadata": {
        "id": "XAFIR4_WcsrV"
      },
      "outputs": [],
      "source": [
        "import numpy as np\n",
        "import cvxpy as cp"
      ]
    },
    {
      "cell_type": "code",
      "execution_count": 8,
      "metadata": {
        "id": "Mo521EkLcsrW"
      },
      "outputs": [],
      "source": [
        "# Decision variable\n",
        "#decision variable x represents the supply\n",
        "x = cp.Variable()"
      ]
    },
    {
      "cell_type": "code",
      "execution_count": 9,
      "metadata": {
        "id": "rieguHkRcsrW"
      },
      "outputs": [],
      "source": [
        "# Demand scenarios and probabilities\n",
        "demand_scenarios = np.array([255, 302, 270, 317, 285, 332, 300, 347, 315, 362, 330, 262, 309, 277])\n",
        "demand_probabilities = np.array([0.03, 0.15, 0.04, 0.1, 0.05, 0.05, 0.09, 0.01, 0.09, 0.03, 0.2, 0.07, 0.05, 0.04])"
      ]
    },
    {
      "cell_type": "code",
      "execution_count": 10,
      "metadata": {
        "id": "BXlw2MsdcsrX"
      },
      "outputs": [],
      "source": [
        "# Cost function (minimize expected cost)\n",
        "cost = cp.sum(cp.multiply(demand_probabilities, cp.pos(x - demand_scenarios)))\n",
        "objective = cp.Minimize(cost)"
      ]
    },
    {
      "cell_type": "code",
      "execution_count": 11,
      "metadata": {
        "id": "NKU2F4rtcsrZ"
      },
      "outputs": [],
      "source": [
        "# Constraints\n",
        "constraints = [x >= 120, x <= 330]"
      ]
    },
    {
      "cell_type": "code",
      "execution_count": 12,
      "metadata": {
        "colab": {
          "base_uri": "https://localhost:8080/"
        },
        "id": "2QvT_dYScsrZ",
        "outputId": "ff7b33af-8842-4559-b592-c1cf7516d442"
      },
      "outputs": [
        {
          "data": {
            "text/plain": [
              "0.0"
            ]
          },
          "execution_count": 12,
          "metadata": {},
          "output_type": "execute_result"
        }
      ],
      "source": [
        "# Solve problem\n",
        "problem = cp.Problem(objective, constraints)\n",
        "problem.solve()\n"
      ]
    },
    {
      "cell_type": "code",
      "execution_count": 13,
      "metadata": {
        "colab": {
          "base_uri": "https://localhost:8080/"
        },
        "id": "pfiodBLDcsra",
        "outputId": "f721ef88-32f2-45d7-b540-e6f594707005"
      },
      "outputs": [
        {
          "name": "stdout",
          "output_type": "stream",
          "text": [
            "Optimal Supply Level: 249.3443890640451\n"
          ]
        }
      ],
      "source": [
        "print(f\"Optimal Supply Level: {x.value}\")"
      ]
    },
    {
      "cell_type": "markdown",
      "metadata": {
        "id": "FmVhQ1JlfIHj"
      },
      "source": [
        "# Question 2 - Healthcare Resource Allocation with Uncertain Demand."
      ]
    },
    {
      "cell_type": "code",
      "execution_count": 15,
      "metadata": {
        "id": "eltOPND7dRNa"
      },
      "outputs": [],
      "source": [
        "import numpy as np\n",
        "import cvxpy as cp"
      ]
    },
    {
      "cell_type": "code",
      "execution_count": 16,
      "metadata": {
        "id": "nUnCsKh6dRwi"
      },
      "outputs": [],
      "source": [
        "# Decision variable\n",
        "beds = cp.Variable()"
      ]
    },
    {
      "cell_type": "code",
      "execution_count": 18,
      "metadata": {
        "id": "OFlmSBvqdZdD"
      },
      "outputs": [],
      "source": [
        "# Patient arrival scenarios and probabilities\n",
        "arrival_scenarios = np.array([25, 20, 30, 50, 27, 39, 42, 29, 35, 42])\n",
        "arrival_probabilities = np.array([0.1, 0.1, 0.08, 0.15, 0.09, 0.05, 0.1, 0.1, 0.13, 0.1])"
      ]
    },
    {
      "cell_type": "code",
      "execution_count": 19,
      "metadata": {
        "id": "QEEKI9cgdgGs"
      },
      "outputs": [],
      "source": [
        "# Cost function (minimize expected cost)\n",
        "cost = cp.sum(cp.multiply(arrival_probabilities, cp.pos(beds - arrival_scenarios)))\n",
        "objective = cp.Minimize(cost)"
      ]
    },
    {
      "cell_type": "code",
      "execution_count": 20,
      "metadata": {
        "id": "vZVLgxoHdiyV"
      },
      "outputs": [],
      "source": [
        "# Constraints\n",
        "constraints = [beds >= 17, beds <= 55]"
      ]
    },
    {
      "cell_type": "code",
      "execution_count": 21,
      "metadata": {
        "colab": {
          "base_uri": "https://localhost:8080/"
        },
        "id": "Imf5OCqydlcj",
        "outputId": "57e791f8-c16a-4bd4-da76-07e2b01ac37e"
      },
      "outputs": [
        {
          "data": {
            "text/plain": [
              "0.0"
            ]
          },
          "execution_count": 21,
          "metadata": {},
          "output_type": "execute_result"
        }
      ],
      "source": [
        "# Solve problem\n",
        "problem = cp.Problem(objective, constraints)\n",
        "problem.solve()"
      ]
    },
    {
      "cell_type": "code",
      "execution_count": 22,
      "metadata": {
        "colab": {
          "base_uri": "https://localhost:8080/"
        },
        "id": "EdZFHdKNdn6a",
        "outputId": "3c5efa17-f2ce-411f-caae-e73db19bed1a"
      },
      "outputs": [
        {
          "name": "stdout",
          "output_type": "stream",
          "text": [
            "Optimal number of ICU beds: 19.628282074057484\n"
          ]
        }
      ],
      "source": [
        "print(f\"Optimal number of ICU beds: {beds.value}\")"
      ]
    },
    {
      "cell_type": "code",
      "execution_count": null,
      "metadata": {
        "id": "0_Cea9PXfuU2"
      },
      "outputs": [],
      "source": []
    }
  ],
  "metadata": {
    "colab": {
      "provenance": []
    },
    "kernelspec": {
      "display_name": "Python 3",
      "language": "python",
      "name": "python3"
    },
    "language_info": {
      "codemirror_mode": {
        "name": "ipython",
        "version": 3
      },
      "file_extension": ".py",
      "mimetype": "text/x-python",
      "name": "python",
      "nbconvert_exporter": "python",
      "pygments_lexer": "ipython3",
      "version": "3.13.2"
    }
  },
  "nbformat": 4,
  "nbformat_minor": 0
}
