{
  "nbformat": 4,
  "nbformat_minor": 0,
  "metadata": {
    "colab": {
      "provenance": []
    },
    "kernelspec": {
      "name": "python3",
      "display_name": "Python 3"
    },
    "language_info": {
      "name": "python"
    }
  },
  "cells": [
    {
      "cell_type": "markdown",
      "source": [
        "#### **NAME: Jackline Mboya**\n",
        "#### **ADM No: 193670**\n",
        "\n",
        "**Week 7 Assignment - Fibonacci**\n",
        "\n",
        "#### **Unit Code: DSA 8302**\n",
        "#### **Unit Name: Computational Techniques in Data Science**"
      ],
      "metadata": {
        "id": "cnOYufQa6UGP"
      }
    },
    {
      "cell_type": "markdown",
      "source": [
        "## **Question 1: Fibonacci Problem - Plant Branch Growth**\n",
        "A rare plant grows following a Fibonacci-like pattern. In the first cycle, it has 1 branch. In the second cycle, it grows 1 more. From the third cycle onward, the number of new branches equals the total number of branches in the previous two cycles.\n",
        "Task:\n",
        "How many branches will the plant have after 12 growth cycles?\n",
        "\n",
        "Hint:\n",
        "Model this as a Fibonacci sequence:\n",
        "\n",
        "Cycle 1 → 1 branch\n",
        "\n",
        "Cycle 2 → 1 branch\n",
        "\n",
        "Cycle 3 → 2 branches\n",
        "\n",
        "Cycle 4 → 3 branches ...\n",
        "\n",
        "Find the total number of branches at cycle 12."
      ],
      "metadata": {
        "id": "Ji60V-9a8gep"
      }
    },
    {
      "cell_type": "code",
      "execution_count": 1,
      "metadata": {
        "colab": {
          "base_uri": "https://localhost:8080/"
        },
        "id": "gmA9qNLu6Iri",
        "outputId": "ef072221-2064-469a-e162-1b2afa217339"
      },
      "outputs": [
        {
          "output_type": "stream",
          "name": "stdout",
          "text": [
            "Branches after 12 cycles: 144\n"
          ]
        }
      ],
      "source": [
        "# Fibonacci\n",
        "def fibonacci(n):\n",
        "    a, b = 1, 1\n",
        "    for _ in range(3, n + 1):\n",
        "        a, b = b, a + b\n",
        "    return b if n > 1 else a\n",
        "\n",
        "branches_after_12_cycles = fibonacci(12)\n",
        "print(\"Branches after 12 cycles:\", branches_after_12_cycles)\n"
      ]
    },
    {
      "cell_type": "markdown",
      "source": [
        "### The total number of branches after cycle 12 is 144 branches"
      ],
      "metadata": {
        "id": "bvyy-kad9oN3"
      }
    },
    {
      "cell_type": "code",
      "source": [],
      "metadata": {
        "id": "gob6H1qh9iG1"
      },
      "execution_count": null,
      "outputs": []
    },
    {
      "cell_type": "markdown",
      "source": [
        "## **Question 2: LIS Problem - Student Score Trends**\n",
        "A student's test scores over a semester are recorded as: [72, 74, 69, 78, 80, 81, 75, 85, 88, 70, 92]\n",
        "\n",
        "Task:\n",
        "\n",
        "Determine the longest consecutive sequence of scores where each score is higher than the last one (i.e., a strictly increasing subsequence).\n",
        "\n",
        "What is the length of this increasing trend?"
      ],
      "metadata": {
        "id": "8kd-2qWW904p"
      }
    },
    {
      "cell_type": "code",
      "source": [
        "def longest_increasing_subsequence(scores):\n",
        "    n = len(scores)\n",
        "    dp = [1] * n\n",
        "    for i in range(n):\n",
        "        for j in range(i):\n",
        "            if scores[i] > scores[j]:\n",
        "                dp[i] = max(dp[i], dp[j] + 1)\n",
        "    return max(dp)\n",
        "\n",
        "scores = [72, 74, 69, 78, 80, 81, 75, 85, 88, 70, 92]\n",
        "lis_length = longest_increasing_subsequence(scores)\n",
        "print(\"Length of longest increasing subsequence/trend:\", lis_length)"
      ],
      "metadata": {
        "colab": {
          "base_uri": "https://localhost:8080/"
        },
        "id": "Ba6bHXPs-EJD",
        "outputId": "99219367-bf05-4615-877e-4e424b689d40"
      },
      "execution_count": 5,
      "outputs": [
        {
          "output_type": "stream",
          "name": "stdout",
          "text": [
            "Length of longest increasing subsequence/trend: 8\n"
          ]
        }
      ]
    },
    {
      "cell_type": "markdown",
      "source": [
        "### The longest consecutive sequence of scores where each score is strictly an increasing subsequence is 8"
      ],
      "metadata": {
        "id": "O9fuSGrC_HHk"
      }
    },
    {
      "cell_type": "code",
      "source": [],
      "metadata": {
        "id": "Fe1g4N80-4b8"
      },
      "execution_count": null,
      "outputs": []
    },
    {
      "cell_type": "markdown",
      "source": [
        "## Question 3: Knapsack Problem - Server CPU Allocation\n",
        "\n",
        "### Problem\n",
        "\n",
        "You manage a server with **30 CPU units** available. There are **7 tasks**, each requiring a specific number of CPU units and offering a corresponding reward in user satisfaction:\n",
        "\n",
        "| Task | CPU Units | Reward |\n",
        "|------|-----------|--------|\n",
        "| A    | 5         | 30     |\n",
        "| B    | 10        | 40     |\n",
        "| C    | 3         | 20     |\n",
        "| D    | 8         | 50     |\n",
        "| E    | 7         | 45     |\n",
        "| F    | 4         | 25     |\n",
        "| G    | 6         | 35     |\n",
        "\n",
        "### Task\n",
        "\n",
        "Select a combination of tasks to **maximize total reward** without exceeding the **30 CPU unit limit**.\n",
        "\n",
        "---\n"
      ],
      "metadata": {
        "id": "p1ZS2aD6_YKp"
      }
    },
    {
      "cell_type": "code",
      "source": [
        "def knapsack(cpu_limit, tasks):\n",
        "    n = len(tasks)\n",
        "    dp = [[0] * (cpu_limit + 1) for _ in range(n + 1)]\n",
        "\n",
        "    #Iterate over each task\n",
        "    for i in range(1, n + 1):\n",
        "        cpu, reward = tasks[i - 1]\n",
        "        for w in range(cpu_limit + 1):\n",
        "            if cpu <= w:\n",
        "                dp[i][w] = max(dp[i - 1][w], dp[i - 1][w - cpu] + reward)\n",
        "            else:\n",
        "                dp[i][w] = dp[i - 1][w]\n",
        "\n",
        "    # Backtrack to find selected tasks\n",
        "    w = cpu_limit\n",
        "    selected = []\n",
        "    for i in range(n, 0, -1):\n",
        "        if dp[i][w] != dp[i - 1][w]:\n",
        "            cpu, reward = tasks[i - 1]\n",
        "            selected.append(chr(ord('A') + i - 1))\n",
        "            w -= cpu\n",
        "\n",
        "    return dp[n][cpu_limit], selected[::-1]\n",
        "\n",
        "# Task list as (CPU usage, Reward)\n",
        "tasks = [(5, 30), (10, 40), (3, 20), (8, 50), (7, 45), (4, 25), (6, 35)]\n",
        "cpu_limit = 30\n",
        "max_reward, chosen_tasks = knapsack(cpu_limit, tasks)\n",
        "\n",
        "print(\"Max Reward:\", max_reward)\n",
        "print(\"Tasks Selected:\", chosen_tasks)\n"
      ],
      "metadata": {
        "colab": {
          "base_uri": "https://localhost:8080/"
        },
        "id": "5IEwwxOBBZdp",
        "outputId": "4d7b6912-3ce3-4f59-9551-a7a6bd9c2339"
      },
      "execution_count": 8,
      "outputs": [
        {
          "output_type": "stream",
          "name": "stdout",
          "text": [
            "Max Reward: 185\n",
            "Tasks Selected: ['A', 'D', 'E', 'F', 'G']\n"
          ]
        }
      ]
    },
    {
      "cell_type": "markdown",
      "source": [
        "### A Combination of tasks include ['A', 'D', 'E', 'F', 'G'] that can maximize total reward of 185 without exceeding 30 CPU unit limit."
      ],
      "metadata": {
        "id": "01sraaChCJ_X"
      }
    },
    {
      "cell_type": "code",
      "source": [],
      "metadata": {
        "id": "BWxdnffwBkC9"
      },
      "execution_count": null,
      "outputs": []
    }
  ]
}